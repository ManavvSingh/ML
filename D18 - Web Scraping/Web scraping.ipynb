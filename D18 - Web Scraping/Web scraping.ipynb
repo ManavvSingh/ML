{
 "cells": [
  {
   "cell_type": "code",
   "execution_count": 1,
   "id": "df70da58",
   "metadata": {},
   "outputs": [],
   "source": [
    "import pandas as pd\n",
    "import requests\n",
    "from bs4 import BeautifulSoup # Library for web scraping"
   ]
  },
  {
   "cell_type": "code",
   "execution_count": 2,
   "id": "1cbc0098",
   "metadata": {},
   "outputs": [],
   "source": [
    "headers={'User-Agent':'Mozilla/5.0 (Windows NT 6.3; Win 64 ; x64) Apple WeKit /537.36(KHTML , like Gecko) Chrome/80.0.3987.162 Safari/537.36'}\n",
    "webpage = requests.get('https://www.ambitionbox.com/list-of-companies?', headers = headers).text"
   ]
  },
  {
   "cell_type": "code",
   "execution_count": 3,
   "id": "80e385e5",
   "metadata": {},
   "outputs": [],
   "source": [
    "# !pip install lxml"
   ]
  },
  {
   "cell_type": "code",
   "execution_count": 4,
   "id": "ef6b726f",
   "metadata": {},
   "outputs": [],
   "source": [
    "soup = BeautifulSoup(webpage,features = 'html.parser')"
   ]
  },
  {
   "cell_type": "code",
   "execution_count": 2,
   "id": "c05259f3",
   "metadata": {},
   "outputs": [],
   "source": [
    "# print(soup.prettify()) ## prints the html source code"
   ]
  },
  {
   "cell_type": "code",
   "execution_count": 6,
   "id": "d8df7226",
   "metadata": {
    "scrolled": true
   },
   "outputs": [
    {
     "data": {
      "text/plain": [
       "'List of companies in India'"
      ]
     },
     "execution_count": 6,
     "metadata": {},
     "output_type": "execute_result"
    }
   ],
   "source": [
    "soup.find_all('h1')[0].text.strip()"
   ]
  },
  {
   "cell_type": "code",
   "execution_count": 7,
   "id": "f1e0d5d0",
   "metadata": {},
   "outputs": [
    {
     "data": {
      "text/plain": [
       "20"
      ]
     },
     "execution_count": 7,
     "metadata": {},
     "output_type": "execute_result"
    }
   ],
   "source": [
    "len(soup.find_all('h2', class_ = 'companyCardWrapper__companyName' ))"
   ]
  },
  {
   "cell_type": "code",
   "execution_count": 8,
   "id": "518db318",
   "metadata": {},
   "outputs": [
    {
     "name": "stdout",
     "output_type": "stream",
     "text": [
      "TCS\n",
      "Accenture\n",
      "Cognizant\n",
      "Wipro\n",
      "ICICI Bank\n",
      "HDFC Bank\n",
      "Infosys\n",
      "Capgemini\n",
      "Tech Mahindra\n",
      "Genpact\n",
      "HCLTech\n",
      "Axis Bank\n",
      "Concentrix Corporation\n",
      "IBM\n",
      "Reliance Jio\n",
      "Amazon\n",
      "Larsen & Toubro Limited\n",
      "HDB Financial Services\n",
      "Reliance Retail\n",
      "Teleperformance\n"
     ]
    }
   ],
   "source": [
    "len(soup.find_all('h2',class_ = 'companyCardWrapper__companyName' ))\n",
    "\n",
    "for i in soup.find_all('h2', class_ = 'companyCardWrapper__companyName'):\n",
    "    print(i.text.strip())"
   ]
  },
  {
   "cell_type": "code",
   "execution_count": 9,
   "id": "f3dc2043",
   "metadata": {},
   "outputs": [
    {
     "data": {
      "text/plain": [
       "20"
      ]
     },
     "execution_count": 9,
     "metadata": {},
     "output_type": "execute_result"
    }
   ],
   "source": [
    "len(soup.find_all('span', class_ = 'companyCardWrapper__companyRatingValue'))"
   ]
  },
  {
   "cell_type": "code",
   "execution_count": 10,
   "id": "ad089617",
   "metadata": {},
   "outputs": [
    {
     "data": {
      "text/plain": [
       "[<span class=\"companyCardWrapper__companyRatingValue\">3.8</span>,\n",
       " <span class=\"companyCardWrapper__companyRatingValue\">4.1</span>,\n",
       " <span class=\"companyCardWrapper__companyRatingValue\">3.9</span>,\n",
       " <span class=\"companyCardWrapper__companyRatingValue\">3.9</span>,\n",
       " <span class=\"companyCardWrapper__companyRatingValue\">4.0</span>,\n",
       " <span class=\"companyCardWrapper__companyRatingValue\">3.9</span>,\n",
       " <span class=\"companyCardWrapper__companyRatingValue\">3.9</span>,\n",
       " <span class=\"companyCardWrapper__companyRatingValue\">3.9</span>,\n",
       " <span class=\"companyCardWrapper__companyRatingValue\">3.7</span>,\n",
       " <span class=\"companyCardWrapper__companyRatingValue\">4.0</span>,\n",
       " <span class=\"companyCardWrapper__companyRatingValue\">3.7</span>,\n",
       " <span class=\"companyCardWrapper__companyRatingValue\">3.8</span>,\n",
       " <span class=\"companyCardWrapper__companyRatingValue\">4.0</span>,\n",
       " <span class=\"companyCardWrapper__companyRatingValue\">4.1</span>,\n",
       " <span class=\"companyCardWrapper__companyRatingValue\">4.0</span>,\n",
       " <span class=\"companyCardWrapper__companyRatingValue\">4.2</span>,\n",
       " <span class=\"companyCardWrapper__companyRatingValue\">4.0</span>,\n",
       " <span class=\"companyCardWrapper__companyRatingValue\">4.0</span>,\n",
       " <span class=\"companyCardWrapper__companyRatingValue\">4.0</span>,\n",
       " <span class=\"companyCardWrapper__companyRatingValue\">3.6</span>]"
      ]
     },
     "execution_count": 10,
     "metadata": {},
     "output_type": "execute_result"
    }
   ],
   "source": [
    "soup.find_all('span', class_ = 'companyCardWrapper__companyRatingValue')"
   ]
  },
  {
   "cell_type": "code",
   "execution_count": 11,
   "id": "89f60c74",
   "metadata": {},
   "outputs": [
    {
     "name": "stdout",
     "output_type": "stream",
     "text": [
      "3.8\n",
      "4.1\n",
      "3.9\n",
      "3.9\n",
      "4.0\n",
      "3.9\n",
      "3.9\n",
      "3.9\n",
      "3.7\n",
      "4.0\n",
      "3.7\n",
      "3.8\n",
      "4.0\n",
      "4.1\n",
      "4.0\n",
      "4.2\n",
      "4.0\n",
      "4.0\n",
      "4.0\n",
      "3.6\n"
     ]
    }
   ],
   "source": [
    "for i in soup.find_all('span', class_ = 'companyCardWrapper__companyRatingValue'):\n",
    "    print(i.text)"
   ]
  },
  {
   "cell_type": "code",
   "execution_count": 12,
   "id": "b1d9a7d7",
   "metadata": {},
   "outputs": [
    {
     "data": {
      "text/plain": [
       "[<span class=\"companyCardWrapper__ActionCount\">61.1k</span>,\n",
       " <span class=\"companyCardWrapper__ActionCount\">857.3k</span>,\n",
       " <span class=\"companyCardWrapper__ActionCount\">5.1k</span>,\n",
       " <span class=\"companyCardWrapper__ActionCount\">45</span>,\n",
       " <span class=\"companyCardWrapper__ActionCount\">25.6k</span>,\n",
       " <span class=\"companyCardWrapper__ActionCount\">62</span>,\n",
       " <span class=\"companyCardWrapper__ActionCount\">39k</span>,\n",
       " <span class=\"companyCardWrapper__ActionCount\">558.8k</span>,\n",
       " <span class=\"companyCardWrapper__ActionCount\">3.4k</span>,\n",
       " <span class=\"companyCardWrapper__ActionCount\">12.6k</span>,\n",
       " <span class=\"companyCardWrapper__ActionCount\">18.3k</span>,\n",
       " <span class=\"companyCardWrapper__ActionCount\">30</span>,\n",
       " <span class=\"companyCardWrapper__ActionCount\">35.6k</span>,\n",
       " <span class=\"companyCardWrapper__ActionCount\">565.1k</span>,\n",
       " <span class=\"companyCardWrapper__ActionCount\">3.1k</span>,\n",
       " <span class=\"companyCardWrapper__ActionCount\">434</span>,\n",
       " <span class=\"companyCardWrapper__ActionCount\">14.9k</span>,\n",
       " <span class=\"companyCardWrapper__ActionCount\">39</span>,\n",
       " <span class=\"companyCardWrapper__ActionCount\">29.1k</span>,\n",
       " <span class=\"companyCardWrapper__ActionCount\">414.4k</span>,\n",
       " <span class=\"companyCardWrapper__ActionCount\">3k</span>,\n",
       " <span class=\"companyCardWrapper__ActionCount\">435</span>,\n",
       " <span class=\"companyCardWrapper__ActionCount\">11.5k</span>,\n",
       " <span class=\"companyCardWrapper__ActionCount\">29</span>,\n",
       " <span class=\"companyCardWrapper__ActionCount\">29k</span>,\n",
       " <span class=\"companyCardWrapper__ActionCount\">217.7k</span>,\n",
       " <span class=\"companyCardWrapper__ActionCount\">1.6k</span>,\n",
       " <span class=\"companyCardWrapper__ActionCount\">233</span>,\n",
       " <span class=\"companyCardWrapper__ActionCount\">11.9k</span>,\n",
       " <span class=\"companyCardWrapper__ActionCount\">11</span>,\n",
       " <span class=\"companyCardWrapper__ActionCount\">28.3k</span>,\n",
       " <span class=\"companyCardWrapper__ActionCount\">212.7k</span>,\n",
       " <span class=\"companyCardWrapper__ActionCount\">1.3k</span>,\n",
       " <span class=\"companyCardWrapper__ActionCount\">374</span>,\n",
       " <span class=\"companyCardWrapper__ActionCount\">9.6k</span>,\n",
       " <span class=\"companyCardWrapper__ActionCount\">11</span>,\n",
       " <span class=\"companyCardWrapper__ActionCount\">26.7k</span>,\n",
       " <span class=\"companyCardWrapper__ActionCount\">486.3k</span>,\n",
       " <span class=\"companyCardWrapper__ActionCount\">4.3k</span>,\n",
       " <span class=\"companyCardWrapper__ActionCount\">991</span>,\n",
       " <span class=\"companyCardWrapper__ActionCount\">11.5k</span>,\n",
       " <span class=\"companyCardWrapper__ActionCount\">62</span>,\n",
       " <span class=\"companyCardWrapper__ActionCount\">24.7k</span>,\n",
       " <span class=\"companyCardWrapper__ActionCount\">368.9k</span>,\n",
       " <span class=\"companyCardWrapper__ActionCount\">2.1k</span>,\n",
       " <span class=\"companyCardWrapper__ActionCount\">911</span>,\n",
       " <span class=\"companyCardWrapper__ActionCount\">9.6k</span>,\n",
       " <span class=\"companyCardWrapper__ActionCount\">21</span>,\n",
       " <span class=\"companyCardWrapper__ActionCount\">23.3k</span>,\n",
       " <span class=\"companyCardWrapper__ActionCount\">263.8k</span>,\n",
       " <span class=\"companyCardWrapper__ActionCount\">2k</span>,\n",
       " <span class=\"companyCardWrapper__ActionCount\">1.3k</span>,\n",
       " <span class=\"companyCardWrapper__ActionCount\">9.6k</span>,\n",
       " <span class=\"companyCardWrapper__ActionCount\">31</span>,\n",
       " <span class=\"companyCardWrapper__ActionCount\">22.5k</span>,\n",
       " <span class=\"companyCardWrapper__ActionCount\">195.1k</span>,\n",
       " <span class=\"companyCardWrapper__ActionCount\">1.6k</span>,\n",
       " <span class=\"companyCardWrapper__ActionCount\">1.1k</span>,\n",
       " <span class=\"companyCardWrapper__ActionCount\">10.5k</span>,\n",
       " <span class=\"companyCardWrapper__ActionCount\">22</span>,\n",
       " <span class=\"companyCardWrapper__ActionCount\">22.3k</span>,\n",
       " <span class=\"companyCardWrapper__ActionCount\">271.5k</span>,\n",
       " <span class=\"companyCardWrapper__ActionCount\">2k</span>,\n",
       " <span class=\"companyCardWrapper__ActionCount\">550</span>,\n",
       " <span class=\"companyCardWrapper__ActionCount\">8.8k</span>,\n",
       " <span class=\"companyCardWrapper__ActionCount\">19</span>,\n",
       " <span class=\"companyCardWrapper__ActionCount\">19.1k</span>,\n",
       " <span class=\"companyCardWrapper__ActionCount\">164.1k</span>,\n",
       " <span class=\"companyCardWrapper__ActionCount\">923</span>,\n",
       " <span class=\"companyCardWrapper__ActionCount\">242</span>,\n",
       " <span class=\"companyCardWrapper__ActionCount\">7k</span>,\n",
       " <span class=\"companyCardWrapper__ActionCount\">10</span>,\n",
       " <span class=\"companyCardWrapper__ActionCount\">17.9k</span>,\n",
       " <span class=\"companyCardWrapper__ActionCount\">108.1k</span>,\n",
       " <span class=\"companyCardWrapper__ActionCount\">852</span>,\n",
       " <span class=\"companyCardWrapper__ActionCount\">163</span>,\n",
       " <span class=\"companyCardWrapper__ActionCount\">9k</span>,\n",
       " <span class=\"companyCardWrapper__ActionCount\">13</span>,\n",
       " <span class=\"companyCardWrapper__ActionCount\">17.7k</span>,\n",
       " <span class=\"companyCardWrapper__ActionCount\">215k</span>,\n",
       " <span class=\"companyCardWrapper__ActionCount\">1.3k</span>,\n",
       " <span class=\"companyCardWrapper__ActionCount\">3.1k</span>,\n",
       " <span class=\"companyCardWrapper__ActionCount\">7.6k</span>,\n",
       " <span class=\"companyCardWrapper__ActionCount\">13</span>,\n",
       " <span class=\"companyCardWrapper__ActionCount\">17.2k</span>,\n",
       " <span class=\"companyCardWrapper__ActionCount\">96.8k</span>,\n",
       " <span class=\"companyCardWrapper__ActionCount\">970</span>,\n",
       " <span class=\"companyCardWrapper__ActionCount\">148</span>,\n",
       " <span class=\"companyCardWrapper__ActionCount\">6.7k</span>,\n",
       " <span class=\"companyCardWrapper__ActionCount\">22</span>,\n",
       " <span class=\"companyCardWrapper__ActionCount\">17.2k</span>,\n",
       " <span class=\"companyCardWrapper__ActionCount\">136.8k</span>,\n",
       " <span class=\"companyCardWrapper__ActionCount\">2.8k</span>,\n",
       " <span class=\"companyCardWrapper__ActionCount\">682</span>,\n",
       " <span class=\"companyCardWrapper__ActionCount\">6.5k</span>,\n",
       " <span class=\"companyCardWrapper__ActionCount\">23</span>,\n",
       " <span class=\"companyCardWrapper__ActionCount\">16.3k</span>,\n",
       " <span class=\"companyCardWrapper__ActionCount\">97.7k</span>,\n",
       " <span class=\"companyCardWrapper__ActionCount\">874</span>,\n",
       " <span class=\"companyCardWrapper__ActionCount\">277</span>,\n",
       " <span class=\"companyCardWrapper__ActionCount\">6.9k</span>,\n",
       " <span class=\"companyCardWrapper__ActionCount\">25</span>,\n",
       " <span class=\"companyCardWrapper__ActionCount\">15.4k</span>,\n",
       " <span class=\"companyCardWrapper__ActionCount\">80.1k</span>,\n",
       " <span class=\"companyCardWrapper__ActionCount\">483</span>,\n",
       " <span class=\"companyCardWrapper__ActionCount\">71</span>,\n",
       " <span class=\"companyCardWrapper__ActionCount\">5.7k</span>,\n",
       " <span class=\"companyCardWrapper__ActionCount\">16</span>,\n",
       " <span class=\"companyCardWrapper__ActionCount\">14.8k</span>,\n",
       " <span class=\"companyCardWrapper__ActionCount\">79.5k</span>,\n",
       " <span class=\"companyCardWrapper__ActionCount\">960</span>,\n",
       " <span class=\"companyCardWrapper__ActionCount\">259</span>,\n",
       " <span class=\"companyCardWrapper__ActionCount\">4.5k</span>,\n",
       " <span class=\"companyCardWrapper__ActionCount\">50</span>,\n",
       " <span class=\"companyCardWrapper__ActionCount\">14.3k</span>,\n",
       " <span class=\"companyCardWrapper__ActionCount\">87.2k</span>,\n",
       " <span class=\"companyCardWrapper__ActionCount\">941</span>,\n",
       " <span class=\"companyCardWrapper__ActionCount\">243</span>,\n",
       " <span class=\"companyCardWrapper__ActionCount\">6.1k</span>,\n",
       " <span class=\"companyCardWrapper__ActionCount\">14</span>]"
      ]
     },
     "execution_count": 12,
     "metadata": {},
     "output_type": "execute_result"
    }
   ],
   "source": [
    "soup.find_all('span', class_ = 'companyCardWrapper__ActionCount')"
   ]
  },
  {
   "cell_type": "code",
   "execution_count": 13,
   "id": "c368a469",
   "metadata": {},
   "outputs": [],
   "source": [
    "company = soup.find_all('div', class_ = 'companyCardWrapper')"
   ]
  },
  {
   "cell_type": "code",
   "execution_count": 14,
   "id": "2e5d3acd",
   "metadata": {},
   "outputs": [
    {
     "data": {
      "text/plain": [
       "20"
      ]
     },
     "execution_count": 14,
     "metadata": {},
     "output_type": "execute_result"
    }
   ],
   "source": [
    "len(company)"
   ]
  },
  {
   "cell_type": "code",
   "execution_count": 15,
   "id": "f476641a",
   "metadata": {},
   "outputs": [],
   "source": [
    "companyNames = []\n",
    "companyRatings = []\n",
    "companyReviews = []\n",
    "companySalaries = []\n",
    "companyInterviews = []\n",
    "companyJobs = []\n",
    "companyBenefits = []\n",
    "\n",
    "for i in company:\n",
    "    companyNames.append(i.find('h2').text.strip())\n",
    "    companyRatings.append(i.find('span',class_ = 'companyCardWrapper__companyRatingValue').text)\n",
    "    companyReviews.append(i.find_all('span',class_ = 'companyCardWrapper__ActionCount')[0].text.strip())\n",
    "    companySalaries.append(i.find_all('span',class_ = 'companyCardWrapper__ActionCount')[1].text.strip())\n",
    "    companyInterviews.append(i.find_all('span',class_ = 'companyCardWrapper__ActionCount')[2].text.strip())\n",
    "    companyJobs.append(i.find_all('span',class_ = 'companyCardWrapper__ActionCount')[3].text.strip())\n",
    "    companyBenefits.append(i.find_all('span',class_ = 'companyCardWrapper__ActionCount')[4].text.strip())\n",
    "\n",
    "data = {'Company':companyNames, 'Rating':companyRatings, 'Reviews': companyReviews,\n",
    "        'Salaries':companySalaries, 'Interviews':companyInterviews, 'Jobs':companyJobs, 'Benefits':companyBenefits }\n",
    "\n",
    "df = pd.DataFrame(data)"
   ]
  },
  {
   "cell_type": "code",
   "execution_count": 16,
   "id": "1e7accc7",
   "metadata": {},
   "outputs": [
    {
     "data": {
      "text/plain": [
       "['TCS',\n",
       " 'Accenture',\n",
       " 'Cognizant',\n",
       " 'Wipro',\n",
       " 'ICICI Bank',\n",
       " 'HDFC Bank',\n",
       " 'Infosys',\n",
       " 'Capgemini',\n",
       " 'Tech Mahindra',\n",
       " 'Genpact',\n",
       " 'HCLTech',\n",
       " 'Axis Bank',\n",
       " 'Concentrix Corporation',\n",
       " 'IBM',\n",
       " 'Reliance Jio',\n",
       " 'Amazon',\n",
       " 'Larsen & Toubro Limited',\n",
       " 'HDB Financial Services',\n",
       " 'Reliance Retail',\n",
       " 'Teleperformance']"
      ]
     },
     "execution_count": 16,
     "metadata": {},
     "output_type": "execute_result"
    }
   ],
   "source": [
    "companyNames"
   ]
  },
  {
   "cell_type": "code",
   "execution_count": 17,
   "id": "df6ac7e9",
   "metadata": {},
   "outputs": [],
   "source": [
    "# companyRatings = []\n",
    "\n",
    "# for i in company:\n",
    "#     companyRatings.append(i.find('span',class_ = 'companyCardWrapper__companyRatingValue').text)"
   ]
  },
  {
   "cell_type": "code",
   "execution_count": 18,
   "id": "9f863c3a",
   "metadata": {},
   "outputs": [
    {
     "data": {
      "text/plain": [
       "['3.8',\n",
       " '4.1',\n",
       " '3.9',\n",
       " '3.9',\n",
       " '4.0',\n",
       " '3.9',\n",
       " '3.9',\n",
       " '3.9',\n",
       " '3.7',\n",
       " '4.0',\n",
       " '3.7',\n",
       " '3.8',\n",
       " '4.0',\n",
       " '4.1',\n",
       " '4.0',\n",
       " '4.2',\n",
       " '4.0',\n",
       " '4.0',\n",
       " '4.0',\n",
       " '3.6']"
      ]
     },
     "execution_count": 18,
     "metadata": {},
     "output_type": "execute_result"
    }
   ],
   "source": [
    "companyRatings"
   ]
  },
  {
   "cell_type": "code",
   "execution_count": 19,
   "id": "205c7796",
   "metadata": {},
   "outputs": [
    {
     "data": {
      "text/plain": [
       "['61.1k',\n",
       " '39k',\n",
       " '35.6k',\n",
       " '29.1k',\n",
       " '29k',\n",
       " '28.3k',\n",
       " '26.7k',\n",
       " '24.7k',\n",
       " '23.3k',\n",
       " '22.5k',\n",
       " '22.3k',\n",
       " '19.1k',\n",
       " '17.9k',\n",
       " '17.7k',\n",
       " '17.2k',\n",
       " '17.2k',\n",
       " '16.3k',\n",
       " '15.4k',\n",
       " '14.8k',\n",
       " '14.3k']"
      ]
     },
     "execution_count": 19,
     "metadata": {},
     "output_type": "execute_result"
    }
   ],
   "source": [
    "companyReviews"
   ]
  },
  {
   "cell_type": "code",
   "execution_count": 20,
   "id": "fe558b52",
   "metadata": {},
   "outputs": [
    {
     "data": {
      "text/plain": [
       "['857.3k',\n",
       " '558.8k',\n",
       " '565.1k',\n",
       " '414.4k',\n",
       " '217.7k',\n",
       " '212.7k',\n",
       " '486.3k',\n",
       " '368.9k',\n",
       " '263.8k',\n",
       " '195.1k',\n",
       " '271.5k',\n",
       " '164.1k',\n",
       " '108.1k',\n",
       " '215k',\n",
       " '96.8k',\n",
       " '136.8k',\n",
       " '97.7k',\n",
       " '80.1k',\n",
       " '79.5k',\n",
       " '87.2k']"
      ]
     },
     "execution_count": 20,
     "metadata": {},
     "output_type": "execute_result"
    }
   ],
   "source": [
    "companySalaries"
   ]
  },
  {
   "cell_type": "markdown",
   "id": "4c5f347a",
   "metadata": {},
   "source": [
    "#### company is a list and each span is an element which consists of information about company \n",
    "#### eg: first span is first element of the list Company which consists of data about the first company"
   ]
  },
  {
   "cell_type": "code",
   "execution_count": 21,
   "id": "769ecbf0",
   "metadata": {},
   "outputs": [
    {
     "data": {
      "text/plain": [
       "[<span class=\"companyCardWrapper__ActionCount\">61.1k</span>,\n",
       " <span class=\"companyCardWrapper__ActionCount\">857.3k</span>,\n",
       " <span class=\"companyCardWrapper__ActionCount\">5.1k</span>,\n",
       " <span class=\"companyCardWrapper__ActionCount\">45</span>,\n",
       " <span class=\"companyCardWrapper__ActionCount\">25.6k</span>,\n",
       " <span class=\"companyCardWrapper__ActionCount\">62</span>]"
      ]
     },
     "execution_count": 21,
     "metadata": {},
     "output_type": "execute_result"
    }
   ],
   "source": [
    "company[0].find_all('span',class_ = 'companyCardWrapper__ActionCount') # gives info about first element of company"
   ]
  },
  {
   "cell_type": "code",
   "execution_count": 22,
   "id": "e0c755c4",
   "metadata": {},
   "outputs": [
    {
     "data": {
      "text/plain": [
       "'61.1k'"
      ]
     },
     "execution_count": 22,
     "metadata": {},
     "output_type": "execute_result"
    }
   ],
   "source": [
    "company[0].find_all('span',class_ = 'companyCardWrapper__ActionCount')[0].text"
   ]
  },
  {
   "cell_type": "code",
   "execution_count": 23,
   "id": "e2b2b1b9",
   "metadata": {},
   "outputs": [
    {
     "data": {
      "text/html": [
       "<div>\n",
       "<style scoped>\n",
       "    .dataframe tbody tr th:only-of-type {\n",
       "        vertical-align: middle;\n",
       "    }\n",
       "\n",
       "    .dataframe tbody tr th {\n",
       "        vertical-align: top;\n",
       "    }\n",
       "\n",
       "    .dataframe thead th {\n",
       "        text-align: right;\n",
       "    }\n",
       "</style>\n",
       "<table border=\"1\" class=\"dataframe\">\n",
       "  <thead>\n",
       "    <tr style=\"text-align: right;\">\n",
       "      <th></th>\n",
       "      <th>Company</th>\n",
       "      <th>Rating</th>\n",
       "      <th>Reviews</th>\n",
       "      <th>Salaries</th>\n",
       "      <th>Interviews</th>\n",
       "      <th>Jobs</th>\n",
       "      <th>Benefits</th>\n",
       "    </tr>\n",
       "  </thead>\n",
       "  <tbody>\n",
       "    <tr>\n",
       "      <th>0</th>\n",
       "      <td>TCS</td>\n",
       "      <td>3.8</td>\n",
       "      <td>61.1k</td>\n",
       "      <td>857.3k</td>\n",
       "      <td>5.1k</td>\n",
       "      <td>45</td>\n",
       "      <td>25.6k</td>\n",
       "    </tr>\n",
       "    <tr>\n",
       "      <th>1</th>\n",
       "      <td>Accenture</td>\n",
       "      <td>4.1</td>\n",
       "      <td>39k</td>\n",
       "      <td>558.8k</td>\n",
       "      <td>3.4k</td>\n",
       "      <td>12.6k</td>\n",
       "      <td>18.3k</td>\n",
       "    </tr>\n",
       "    <tr>\n",
       "      <th>2</th>\n",
       "      <td>Cognizant</td>\n",
       "      <td>3.9</td>\n",
       "      <td>35.6k</td>\n",
       "      <td>565.1k</td>\n",
       "      <td>3.1k</td>\n",
       "      <td>434</td>\n",
       "      <td>14.9k</td>\n",
       "    </tr>\n",
       "    <tr>\n",
       "      <th>3</th>\n",
       "      <td>Wipro</td>\n",
       "      <td>3.9</td>\n",
       "      <td>29.1k</td>\n",
       "      <td>414.4k</td>\n",
       "      <td>3k</td>\n",
       "      <td>435</td>\n",
       "      <td>11.5k</td>\n",
       "    </tr>\n",
       "    <tr>\n",
       "      <th>4</th>\n",
       "      <td>ICICI Bank</td>\n",
       "      <td>4.0</td>\n",
       "      <td>29k</td>\n",
       "      <td>217.7k</td>\n",
       "      <td>1.6k</td>\n",
       "      <td>233</td>\n",
       "      <td>11.9k</td>\n",
       "    </tr>\n",
       "    <tr>\n",
       "      <th>5</th>\n",
       "      <td>HDFC Bank</td>\n",
       "      <td>3.9</td>\n",
       "      <td>28.3k</td>\n",
       "      <td>212.7k</td>\n",
       "      <td>1.3k</td>\n",
       "      <td>374</td>\n",
       "      <td>9.6k</td>\n",
       "    </tr>\n",
       "    <tr>\n",
       "      <th>6</th>\n",
       "      <td>Infosys</td>\n",
       "      <td>3.9</td>\n",
       "      <td>26.7k</td>\n",
       "      <td>486.3k</td>\n",
       "      <td>4.3k</td>\n",
       "      <td>991</td>\n",
       "      <td>11.5k</td>\n",
       "    </tr>\n",
       "    <tr>\n",
       "      <th>7</th>\n",
       "      <td>Capgemini</td>\n",
       "      <td>3.9</td>\n",
       "      <td>24.7k</td>\n",
       "      <td>368.9k</td>\n",
       "      <td>2.1k</td>\n",
       "      <td>911</td>\n",
       "      <td>9.6k</td>\n",
       "    </tr>\n",
       "    <tr>\n",
       "      <th>8</th>\n",
       "      <td>Tech Mahindra</td>\n",
       "      <td>3.7</td>\n",
       "      <td>23.3k</td>\n",
       "      <td>263.8k</td>\n",
       "      <td>2k</td>\n",
       "      <td>1.3k</td>\n",
       "      <td>9.6k</td>\n",
       "    </tr>\n",
       "    <tr>\n",
       "      <th>9</th>\n",
       "      <td>Genpact</td>\n",
       "      <td>4.0</td>\n",
       "      <td>22.5k</td>\n",
       "      <td>195.1k</td>\n",
       "      <td>1.6k</td>\n",
       "      <td>1.1k</td>\n",
       "      <td>10.5k</td>\n",
       "    </tr>\n",
       "    <tr>\n",
       "      <th>10</th>\n",
       "      <td>HCLTech</td>\n",
       "      <td>3.7</td>\n",
       "      <td>22.3k</td>\n",
       "      <td>271.5k</td>\n",
       "      <td>2k</td>\n",
       "      <td>550</td>\n",
       "      <td>8.8k</td>\n",
       "    </tr>\n",
       "    <tr>\n",
       "      <th>11</th>\n",
       "      <td>Axis Bank</td>\n",
       "      <td>3.8</td>\n",
       "      <td>19.1k</td>\n",
       "      <td>164.1k</td>\n",
       "      <td>923</td>\n",
       "      <td>242</td>\n",
       "      <td>7k</td>\n",
       "    </tr>\n",
       "    <tr>\n",
       "      <th>12</th>\n",
       "      <td>Concentrix Corporation</td>\n",
       "      <td>4.0</td>\n",
       "      <td>17.9k</td>\n",
       "      <td>108.1k</td>\n",
       "      <td>852</td>\n",
       "      <td>163</td>\n",
       "      <td>9k</td>\n",
       "    </tr>\n",
       "    <tr>\n",
       "      <th>13</th>\n",
       "      <td>IBM</td>\n",
       "      <td>4.1</td>\n",
       "      <td>17.7k</td>\n",
       "      <td>215k</td>\n",
       "      <td>1.3k</td>\n",
       "      <td>3.1k</td>\n",
       "      <td>7.6k</td>\n",
       "    </tr>\n",
       "    <tr>\n",
       "      <th>14</th>\n",
       "      <td>Reliance Jio</td>\n",
       "      <td>4.0</td>\n",
       "      <td>17.2k</td>\n",
       "      <td>96.8k</td>\n",
       "      <td>970</td>\n",
       "      <td>148</td>\n",
       "      <td>6.7k</td>\n",
       "    </tr>\n",
       "    <tr>\n",
       "      <th>15</th>\n",
       "      <td>Amazon</td>\n",
       "      <td>4.2</td>\n",
       "      <td>17.2k</td>\n",
       "      <td>136.8k</td>\n",
       "      <td>2.8k</td>\n",
       "      <td>682</td>\n",
       "      <td>6.5k</td>\n",
       "    </tr>\n",
       "    <tr>\n",
       "      <th>16</th>\n",
       "      <td>Larsen &amp; Toubro Limited</td>\n",
       "      <td>4.0</td>\n",
       "      <td>16.3k</td>\n",
       "      <td>97.7k</td>\n",
       "      <td>874</td>\n",
       "      <td>277</td>\n",
       "      <td>6.9k</td>\n",
       "    </tr>\n",
       "    <tr>\n",
       "      <th>17</th>\n",
       "      <td>HDB Financial Services</td>\n",
       "      <td>4.0</td>\n",
       "      <td>15.4k</td>\n",
       "      <td>80.1k</td>\n",
       "      <td>483</td>\n",
       "      <td>71</td>\n",
       "      <td>5.7k</td>\n",
       "    </tr>\n",
       "    <tr>\n",
       "      <th>18</th>\n",
       "      <td>Reliance Retail</td>\n",
       "      <td>4.0</td>\n",
       "      <td>14.8k</td>\n",
       "      <td>79.5k</td>\n",
       "      <td>960</td>\n",
       "      <td>259</td>\n",
       "      <td>4.5k</td>\n",
       "    </tr>\n",
       "    <tr>\n",
       "      <th>19</th>\n",
       "      <td>Teleperformance</td>\n",
       "      <td>3.6</td>\n",
       "      <td>14.3k</td>\n",
       "      <td>87.2k</td>\n",
       "      <td>941</td>\n",
       "      <td>243</td>\n",
       "      <td>6.1k</td>\n",
       "    </tr>\n",
       "  </tbody>\n",
       "</table>\n",
       "</div>"
      ],
      "text/plain": [
       "                    Company Rating Reviews Salaries Interviews   Jobs Benefits\n",
       "0                       TCS    3.8   61.1k   857.3k       5.1k     45    25.6k\n",
       "1                 Accenture    4.1     39k   558.8k       3.4k  12.6k    18.3k\n",
       "2                 Cognizant    3.9   35.6k   565.1k       3.1k    434    14.9k\n",
       "3                     Wipro    3.9   29.1k   414.4k         3k    435    11.5k\n",
       "4                ICICI Bank    4.0     29k   217.7k       1.6k    233    11.9k\n",
       "5                 HDFC Bank    3.9   28.3k   212.7k       1.3k    374     9.6k\n",
       "6                   Infosys    3.9   26.7k   486.3k       4.3k    991    11.5k\n",
       "7                 Capgemini    3.9   24.7k   368.9k       2.1k    911     9.6k\n",
       "8             Tech Mahindra    3.7   23.3k   263.8k         2k   1.3k     9.6k\n",
       "9                   Genpact    4.0   22.5k   195.1k       1.6k   1.1k    10.5k\n",
       "10                  HCLTech    3.7   22.3k   271.5k         2k    550     8.8k\n",
       "11                Axis Bank    3.8   19.1k   164.1k        923    242       7k\n",
       "12   Concentrix Corporation    4.0   17.9k   108.1k        852    163       9k\n",
       "13                      IBM    4.1   17.7k     215k       1.3k   3.1k     7.6k\n",
       "14             Reliance Jio    4.0   17.2k    96.8k        970    148     6.7k\n",
       "15                   Amazon    4.2   17.2k   136.8k       2.8k    682     6.5k\n",
       "16  Larsen & Toubro Limited    4.0   16.3k    97.7k        874    277     6.9k\n",
       "17   HDB Financial Services    4.0   15.4k    80.1k        483     71     5.7k\n",
       "18          Reliance Retail    4.0   14.8k    79.5k        960    259     4.5k\n",
       "19          Teleperformance    3.6   14.3k    87.2k        941    243     6.1k"
      ]
     },
     "execution_count": 23,
     "metadata": {},
     "output_type": "execute_result"
    }
   ],
   "source": [
    "df"
   ]
  },
  {
   "cell_type": "code",
   "execution_count": 24,
   "id": "f017a1cd",
   "metadata": {},
   "outputs": [],
   "source": [
    "final = pd.DataFrame()\n",
    "\n",
    "for j in (1,11):\n",
    "    url = 'https://www.ambitionbox.com/list-of-companies?page={}'.format(j)\n",
    "\n",
    "    headers={'User-Agent':'Mozilla/5.0 (Windows NT 6.3; Win 64 ; x64) Apple WeKit /537.36(KHTML , like Gecko) Chrome/80.0.3987.162 Safari/537.36'}\n",
    "    webpage = requests.get(url, headers = headers).text\n",
    "    \n",
    "    soup = BeautifulSoup(webpage,features = 'html.parser')\n",
    "    \n",
    "    company = soup.find_all('div', class_ = 'companyCardWrapper')\n",
    "    \n",
    "    companyNames = []\n",
    "    companyRatings = []\n",
    "    companyReviews = []\n",
    "    companySalaries = []\n",
    "    companyInterviews = []\n",
    "    companyJobs = []\n",
    "    companyBenefits = []\n",
    "\n",
    "    for i in company:\n",
    "        companyNames.append(i.find('h2').text.strip())\n",
    "        companyRatings.append(i.find('span',class_ = 'companyCardWrapper__companyRatingValue').text)\n",
    "        companyReviews.append(i.find_all('span',class_ = 'companyCardWrapper__ActionCount')[0].text.strip())\n",
    "        companySalaries.append(i.find_all('span',class_ = 'companyCardWrapper__ActionCount')[1].text.strip())\n",
    "        companyInterviews.append(i.find_all('span',class_ = 'companyCardWrapper__ActionCount')[2].text.strip())\n",
    "        companyJobs.append(i.find_all('span',class_ = 'companyCardWrapper__ActionCount')[3].text.strip())\n",
    "        companyBenefits.append(i.find_all('span',class_ = 'companyCardWrapper__ActionCount')[4].text.strip())\n",
    "\n",
    "        data = {'Company':companyNames, 'Rating':companyRatings, 'Reviews': companyReviews,\n",
    "        'Salaries':companySalaries, 'Interviews':companyInterviews, 'Jobs':companyJobs, 'Benefits':companyBenefits }\n",
    "     \n",
    "        df = pd.DataFrame(data)\n",
    "    \n",
    "        final =  pd.concat([final,df],ignore_index=True)"
   ]
  },
  {
   "cell_type": "code",
   "execution_count": 25,
   "id": "fbb079ab",
   "metadata": {},
   "outputs": [
    {
     "data": {
      "text/plain": [
       "420"
      ]
     },
     "execution_count": 25,
     "metadata": {},
     "output_type": "execute_result"
    }
   ],
   "source": [
    "len(final)"
   ]
  },
  {
   "cell_type": "code",
   "execution_count": 26,
   "id": "eca1d06e",
   "metadata": {},
   "outputs": [
    {
     "data": {
      "text/html": [
       "<div>\n",
       "<style scoped>\n",
       "    .dataframe tbody tr th:only-of-type {\n",
       "        vertical-align: middle;\n",
       "    }\n",
       "\n",
       "    .dataframe tbody tr th {\n",
       "        vertical-align: top;\n",
       "    }\n",
       "\n",
       "    .dataframe thead th {\n",
       "        text-align: right;\n",
       "    }\n",
       "</style>\n",
       "<table border=\"1\" class=\"dataframe\">\n",
       "  <thead>\n",
       "    <tr style=\"text-align: right;\">\n",
       "      <th></th>\n",
       "      <th>Company</th>\n",
       "      <th>Rating</th>\n",
       "      <th>Reviews</th>\n",
       "      <th>Salaries</th>\n",
       "      <th>Interviews</th>\n",
       "      <th>Jobs</th>\n",
       "      <th>Benefits</th>\n",
       "    </tr>\n",
       "  </thead>\n",
       "  <tbody>\n",
       "    <tr>\n",
       "      <th>0</th>\n",
       "      <td>TCS</td>\n",
       "      <td>3.8</td>\n",
       "      <td>61.1k</td>\n",
       "      <td>857.3k</td>\n",
       "      <td>5.1k</td>\n",
       "      <td>45</td>\n",
       "      <td>25.6k</td>\n",
       "    </tr>\n",
       "    <tr>\n",
       "      <th>1</th>\n",
       "      <td>TCS</td>\n",
       "      <td>3.8</td>\n",
       "      <td>61.1k</td>\n",
       "      <td>857.3k</td>\n",
       "      <td>5.1k</td>\n",
       "      <td>45</td>\n",
       "      <td>25.6k</td>\n",
       "    </tr>\n",
       "    <tr>\n",
       "      <th>2</th>\n",
       "      <td>Accenture</td>\n",
       "      <td>4.1</td>\n",
       "      <td>39k</td>\n",
       "      <td>558.8k</td>\n",
       "      <td>3.4k</td>\n",
       "      <td>12.6k</td>\n",
       "      <td>18.3k</td>\n",
       "    </tr>\n",
       "    <tr>\n",
       "      <th>3</th>\n",
       "      <td>TCS</td>\n",
       "      <td>3.8</td>\n",
       "      <td>61.1k</td>\n",
       "      <td>857.3k</td>\n",
       "      <td>5.1k</td>\n",
       "      <td>45</td>\n",
       "      <td>25.6k</td>\n",
       "    </tr>\n",
       "    <tr>\n",
       "      <th>4</th>\n",
       "      <td>Accenture</td>\n",
       "      <td>4.1</td>\n",
       "      <td>39k</td>\n",
       "      <td>558.8k</td>\n",
       "      <td>3.4k</td>\n",
       "      <td>12.6k</td>\n",
       "      <td>18.3k</td>\n",
       "    </tr>\n",
       "    <tr>\n",
       "      <th>...</th>\n",
       "      <td>...</td>\n",
       "      <td>...</td>\n",
       "      <td>...</td>\n",
       "      <td>...</td>\n",
       "      <td>...</td>\n",
       "      <td>...</td>\n",
       "      <td>...</td>\n",
       "    </tr>\n",
       "    <tr>\n",
       "      <th>415</th>\n",
       "      <td>Conduent</td>\n",
       "      <td>3.6</td>\n",
       "      <td>2.1k</td>\n",
       "      <td>20k</td>\n",
       "      <td>105</td>\n",
       "      <td>28</td>\n",
       "      <td>1k</td>\n",
       "    </tr>\n",
       "    <tr>\n",
       "      <th>416</th>\n",
       "      <td>Access Healthcare</td>\n",
       "      <td>4.0</td>\n",
       "      <td>2.1k</td>\n",
       "      <td>18.1k</td>\n",
       "      <td>121</td>\n",
       "      <td>92</td>\n",
       "      <td>850</td>\n",
       "    </tr>\n",
       "    <tr>\n",
       "      <th>417</th>\n",
       "      <td>Biocon</td>\n",
       "      <td>3.9</td>\n",
       "      <td>2.1k</td>\n",
       "      <td>15k</td>\n",
       "      <td>123</td>\n",
       "      <td>70</td>\n",
       "      <td>871</td>\n",
       "    </tr>\n",
       "    <tr>\n",
       "      <th>418</th>\n",
       "      <td>ITC Infotech India</td>\n",
       "      <td>3.6</td>\n",
       "      <td>2.1k</td>\n",
       "      <td>26.5k</td>\n",
       "      <td>164</td>\n",
       "      <td>126</td>\n",
       "      <td>728</td>\n",
       "    </tr>\n",
       "    <tr>\n",
       "      <th>419</th>\n",
       "      <td>Paras Hospital</td>\n",
       "      <td>4.7</td>\n",
       "      <td>2.1k</td>\n",
       "      <td>2.6k</td>\n",
       "      <td>31</td>\n",
       "      <td>47</td>\n",
       "      <td>234</td>\n",
       "    </tr>\n",
       "  </tbody>\n",
       "</table>\n",
       "<p>420 rows × 7 columns</p>\n",
       "</div>"
      ],
      "text/plain": [
       "                Company Rating Reviews Salaries Interviews   Jobs Benefits\n",
       "0                   TCS    3.8   61.1k   857.3k       5.1k     45    25.6k\n",
       "1                   TCS    3.8   61.1k   857.3k       5.1k     45    25.6k\n",
       "2             Accenture    4.1     39k   558.8k       3.4k  12.6k    18.3k\n",
       "3                   TCS    3.8   61.1k   857.3k       5.1k     45    25.6k\n",
       "4             Accenture    4.1     39k   558.8k       3.4k  12.6k    18.3k\n",
       "..                  ...    ...     ...      ...        ...    ...      ...\n",
       "415            Conduent    3.6    2.1k      20k        105     28       1k\n",
       "416   Access Healthcare    4.0    2.1k    18.1k        121     92      850\n",
       "417              Biocon    3.9    2.1k      15k        123     70      871\n",
       "418  ITC Infotech India    3.6    2.1k    26.5k        164    126      728\n",
       "419      Paras Hospital    4.7    2.1k     2.6k         31     47      234\n",
       "\n",
       "[420 rows x 7 columns]"
      ]
     },
     "execution_count": 26,
     "metadata": {},
     "output_type": "execute_result"
    }
   ],
   "source": [
    "final"
   ]
  }
 ],
 "metadata": {
  "kernelspec": {
   "display_name": "Python 3 (ipykernel)",
   "language": "python",
   "name": "python3"
  },
  "language_info": {
   "codemirror_mode": {
    "name": "ipython",
    "version": 3
   },
   "file_extension": ".py",
   "mimetype": "text/x-python",
   "name": "python",
   "nbconvert_exporter": "python",
   "pygments_lexer": "ipython3",
   "version": "3.10.0"
  }
 },
 "nbformat": 4,
 "nbformat_minor": 5
}
