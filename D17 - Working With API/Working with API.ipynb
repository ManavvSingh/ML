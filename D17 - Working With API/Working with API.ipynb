{
 "cells": [
  {
   "cell_type": "code",
   "execution_count": 1,
   "id": "74120a52",
   "metadata": {},
   "outputs": [],
   "source": [
    "import pandas as pd\n",
    "import requests"
   ]
  },
  {
   "cell_type": "code",
   "execution_count": 4,
   "id": "7ee066d9",
   "metadata": {},
   "outputs": [],
   "source": [
    "response = requests.get('https://datausa.io/api/data?drilldowns=Nation&measures=Population')"
   ]
  },
  {
   "cell_type": "code",
   "execution_count": 5,
   "id": "974cb5d3",
   "metadata": {},
   "outputs": [
    {
     "data": {
      "text/plain": [
       "<Response [200]>"
      ]
     },
     "execution_count": 5,
     "metadata": {},
     "output_type": "execute_result"
    }
   ],
   "source": [
    "response"
   ]
  },
  {
   "cell_type": "code",
   "execution_count": 9,
   "id": "5ec8fbc9",
   "metadata": {},
   "outputs": [
    {
     "data": {
      "text/plain": [
       "{'data': [{'ID Nation': '01000US',\n",
       "   'Nation': 'United States',\n",
       "   'ID Year': 2020,\n",
       "   'Year': '2020',\n",
       "   'Population': 326569308,\n",
       "   'Slug Nation': 'united-states'},\n",
       "  {'ID Nation': '01000US',\n",
       "   'Nation': 'United States',\n",
       "   'ID Year': 2019,\n",
       "   'Year': '2019',\n",
       "   'Population': 324697795,\n",
       "   'Slug Nation': 'united-states'},\n",
       "  {'ID Nation': '01000US',\n",
       "   'Nation': 'United States',\n",
       "   'ID Year': 2018,\n",
       "   'Year': '2018',\n",
       "   'Population': 322903030,\n",
       "   'Slug Nation': 'united-states'},\n",
       "  {'ID Nation': '01000US',\n",
       "   'Nation': 'United States',\n",
       "   'ID Year': 2017,\n",
       "   'Year': '2017',\n",
       "   'Population': 321004407,\n",
       "   'Slug Nation': 'united-states'},\n",
       "  {'ID Nation': '01000US',\n",
       "   'Nation': 'United States',\n",
       "   'ID Year': 2016,\n",
       "   'Year': '2016',\n",
       "   'Population': 318558162,\n",
       "   'Slug Nation': 'united-states'},\n",
       "  {'ID Nation': '01000US',\n",
       "   'Nation': 'United States',\n",
       "   'ID Year': 2015,\n",
       "   'Year': '2015',\n",
       "   'Population': 316515021,\n",
       "   'Slug Nation': 'united-states'},\n",
       "  {'ID Nation': '01000US',\n",
       "   'Nation': 'United States',\n",
       "   'ID Year': 2014,\n",
       "   'Year': '2014',\n",
       "   'Population': 314107084,\n",
       "   'Slug Nation': 'united-states'},\n",
       "  {'ID Nation': '01000US',\n",
       "   'Nation': 'United States',\n",
       "   'ID Year': 2013,\n",
       "   'Year': '2013',\n",
       "   'Population': 311536594,\n",
       "   'Slug Nation': 'united-states'}],\n",
       " 'source': [{'measures': ['Population'],\n",
       "   'annotations': {'source_name': 'Census Bureau',\n",
       "    'source_description': 'The American Community Survey (ACS) is conducted by the US Census and sent to a portion of the population every year.',\n",
       "    'dataset_name': 'ACS 5-year Estimate',\n",
       "    'dataset_link': 'http://www.census.gov/programs-surveys/acs/',\n",
       "    'table_id': 'B01003',\n",
       "    'topic': 'Diversity',\n",
       "    'subtopic': 'Demographics'},\n",
       "   'name': 'acs_yg_total_population_5',\n",
       "   'substitutions': []}]}"
      ]
     },
     "execution_count": 9,
     "metadata": {},
     "output_type": "execute_result"
    }
   ],
   "source": [
    "response.json()"
   ]
  },
  {
   "cell_type": "code",
   "execution_count": 11,
   "id": "0607f568",
   "metadata": {},
   "outputs": [
    {
     "data": {
      "text/html": [
       "<div>\n",
       "<style scoped>\n",
       "    .dataframe tbody tr th:only-of-type {\n",
       "        vertical-align: middle;\n",
       "    }\n",
       "\n",
       "    .dataframe tbody tr th {\n",
       "        vertical-align: top;\n",
       "    }\n",
       "\n",
       "    .dataframe thead th {\n",
       "        text-align: right;\n",
       "    }\n",
       "</style>\n",
       "<table border=\"1\" class=\"dataframe\">\n",
       "  <thead>\n",
       "    <tr style=\"text-align: right;\">\n",
       "      <th></th>\n",
       "      <th>ID Nation</th>\n",
       "      <th>Year</th>\n",
       "      <th>Population</th>\n",
       "    </tr>\n",
       "  </thead>\n",
       "  <tbody>\n",
       "    <tr>\n",
       "      <th>0</th>\n",
       "      <td>01000US</td>\n",
       "      <td>2020</td>\n",
       "      <td>326569308</td>\n",
       "    </tr>\n",
       "    <tr>\n",
       "      <th>1</th>\n",
       "      <td>01000US</td>\n",
       "      <td>2019</td>\n",
       "      <td>324697795</td>\n",
       "    </tr>\n",
       "    <tr>\n",
       "      <th>2</th>\n",
       "      <td>01000US</td>\n",
       "      <td>2018</td>\n",
       "      <td>322903030</td>\n",
       "    </tr>\n",
       "    <tr>\n",
       "      <th>3</th>\n",
       "      <td>01000US</td>\n",
       "      <td>2017</td>\n",
       "      <td>321004407</td>\n",
       "    </tr>\n",
       "    <tr>\n",
       "      <th>4</th>\n",
       "      <td>01000US</td>\n",
       "      <td>2016</td>\n",
       "      <td>318558162</td>\n",
       "    </tr>\n",
       "    <tr>\n",
       "      <th>5</th>\n",
       "      <td>01000US</td>\n",
       "      <td>2015</td>\n",
       "      <td>316515021</td>\n",
       "    </tr>\n",
       "    <tr>\n",
       "      <th>6</th>\n",
       "      <td>01000US</td>\n",
       "      <td>2014</td>\n",
       "      <td>314107084</td>\n",
       "    </tr>\n",
       "    <tr>\n",
       "      <th>7</th>\n",
       "      <td>01000US</td>\n",
       "      <td>2013</td>\n",
       "      <td>311536594</td>\n",
       "    </tr>\n",
       "  </tbody>\n",
       "</table>\n",
       "</div>"
      ],
      "text/plain": [
       "  ID Nation  Year  Population\n",
       "0   01000US  2020   326569308\n",
       "1   01000US  2019   324697795\n",
       "2   01000US  2018   322903030\n",
       "3   01000US  2017   321004407\n",
       "4   01000US  2016   318558162\n",
       "5   01000US  2015   316515021\n",
       "6   01000US  2014   314107084\n",
       "7   01000US  2013   311536594"
      ]
     },
     "execution_count": 11,
     "metadata": {},
     "output_type": "execute_result"
    }
   ],
   "source": [
    "pd.DataFrame(response.json()['data'])[['ID Nation','Year','Population']]"
   ]
  },
  {
   "cell_type": "code",
   "execution_count": null,
   "id": "004253ef",
   "metadata": {},
   "outputs": [],
   "source": []
  }
 ],
 "metadata": {
  "kernelspec": {
   "display_name": "Python 3 (ipykernel)",
   "language": "python",
   "name": "python3"
  },
  "language_info": {
   "codemirror_mode": {
    "name": "ipython",
    "version": 3
   },
   "file_extension": ".py",
   "mimetype": "text/x-python",
   "name": "python",
   "nbconvert_exporter": "python",
   "pygments_lexer": "ipython3",
   "version": "3.10.0"
  }
 },
 "nbformat": 4,
 "nbformat_minor": 5
}
