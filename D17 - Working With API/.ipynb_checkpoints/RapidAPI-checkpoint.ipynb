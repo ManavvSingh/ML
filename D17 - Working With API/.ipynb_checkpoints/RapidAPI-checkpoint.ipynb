{
 "cells": [
  {
   "cell_type": "code",
   "execution_count": 1,
   "id": "4f9c7999",
   "metadata": {},
   "outputs": [],
   "source": [
    "import pandas as pd\n",
    "import requests"
   ]
  },
  {
   "cell_type": "code",
   "execution_count": 14,
   "id": "65ad16b3",
   "metadata": {},
   "outputs": [
    {
     "name": "stdout",
     "output_type": "stream",
     "text": [
      "{'data': [{'id': 3515514, 'wikiDataId': 'Q4117373', 'name': 'Al Mamzar', 'country': 'United Arab Emirates', 'countryCode': 'AE', 'region': 'Emirate of Dubai', 'regionCode': 'DU', 'regionWdId': 'Q613', 'latitude': 25.309469444, 'longitude': 55.342811111, 'population': 0}, {'id': 3386644, 'wikiDataId': 'Q3694483', 'name': 'Ab Band District', 'country': 'Afghanistan', 'countryCode': 'AF', 'region': 'Ghazni', 'regionCode': 'GHA', 'regionWdId': 'Q180415', 'latitude': 32.983, 'longitude': 67.967, 'population': 0}, {'id': 3339608, 'wikiDataId': 'Q2572213', 'name': 'Ab Kamari', 'country': 'Afghanistan', 'countryCode': 'AF', 'region': 'Badghis', 'regionCode': 'BDG', 'regionWdId': 'Q172052', 'latitude': 34.925, 'longitude': 62.901666666, 'population': 0}, {'id': 3228129, 'wikiDataId': 'Q1650529', 'name': 'Achin', 'country': 'Afghanistan', 'countryCode': 'AF', 'region': 'Nangarhar', 'regionCode': 'NAN', 'regionWdId': 'Q178471', 'latitude': 34.0894, 'longitude': 70.683, 'population': 0}, {'id': 3301438, 'wikiDataId': 'Q2714271', 'name': 'Adraskan District', 'country': 'Afghanistan', 'countryCode': 'AF', 'region': 'Herat Province', 'regionCode': 'HER', 'regionWdId': 'Q182844', 'latitude': 33.705277777, 'longitude': 61.995555555, 'population': 0}], 'links': [{'rel': 'first', 'href': '/v1/geo/adminDivisions?offset=0&limit=5'}, {'rel': 'next', 'href': '/v1/geo/adminDivisions?offset=5&limit=5'}, {'rel': 'last', 'href': '/v1/geo/adminDivisions?offset=55550&limit=5'}], 'metadata': {'currentOffset': 0, 'totalCount': 55551}}\n"
     ]
    }
   ],
   "source": [
    "import requests\n",
    "\n",
    "url = \"https://wft-geo-db.p.rapidapi.com/v1/geo/adminDivisions\"\n",
    "\n",
    "headers = {\n",
    "\t\"X-RapidAPI-Key\": \"f1b9e04749msh3c988b9b38b60ddp1c9894jsnfdbfa79941d8\",\n",
    "\t\"X-RapidAPI-Host\": \"wft-geo-db.p.rapidapi.com\"\n",
    "}\n",
    "\n",
    "response = requests.get(url, headers=headers)\n",
    "\n",
    "print(response.json())"
   ]
  },
  {
   "cell_type": "code",
   "execution_count": 15,
   "id": "6a42baeb",
   "metadata": {},
   "outputs": [
    {
     "data": {
      "text/html": [
       "<div>\n",
       "<style scoped>\n",
       "    .dataframe tbody tr th:only-of-type {\n",
       "        vertical-align: middle;\n",
       "    }\n",
       "\n",
       "    .dataframe tbody tr th {\n",
       "        vertical-align: top;\n",
       "    }\n",
       "\n",
       "    .dataframe thead th {\n",
       "        text-align: right;\n",
       "    }\n",
       "</style>\n",
       "<table border=\"1\" class=\"dataframe\">\n",
       "  <thead>\n",
       "    <tr style=\"text-align: right;\">\n",
       "      <th></th>\n",
       "      <th>id</th>\n",
       "      <th>wikiDataId</th>\n",
       "      <th>name</th>\n",
       "      <th>country</th>\n",
       "      <th>countryCode</th>\n",
       "      <th>region</th>\n",
       "      <th>regionCode</th>\n",
       "      <th>regionWdId</th>\n",
       "      <th>latitude</th>\n",
       "      <th>longitude</th>\n",
       "      <th>population</th>\n",
       "    </tr>\n",
       "  </thead>\n",
       "  <tbody>\n",
       "    <tr>\n",
       "      <th>0</th>\n",
       "      <td>3515514</td>\n",
       "      <td>Q4117373</td>\n",
       "      <td>Al Mamzar</td>\n",
       "      <td>United Arab Emirates</td>\n",
       "      <td>AE</td>\n",
       "      <td>Emirate of Dubai</td>\n",
       "      <td>DU</td>\n",
       "      <td>Q613</td>\n",
       "      <td>25.309469</td>\n",
       "      <td>55.342811</td>\n",
       "      <td>0</td>\n",
       "    </tr>\n",
       "    <tr>\n",
       "      <th>1</th>\n",
       "      <td>3386644</td>\n",
       "      <td>Q3694483</td>\n",
       "      <td>Ab Band District</td>\n",
       "      <td>Afghanistan</td>\n",
       "      <td>AF</td>\n",
       "      <td>Ghazni</td>\n",
       "      <td>GHA</td>\n",
       "      <td>Q180415</td>\n",
       "      <td>32.983000</td>\n",
       "      <td>67.967000</td>\n",
       "      <td>0</td>\n",
       "    </tr>\n",
       "    <tr>\n",
       "      <th>2</th>\n",
       "      <td>3339608</td>\n",
       "      <td>Q2572213</td>\n",
       "      <td>Ab Kamari</td>\n",
       "      <td>Afghanistan</td>\n",
       "      <td>AF</td>\n",
       "      <td>Badghis</td>\n",
       "      <td>BDG</td>\n",
       "      <td>Q172052</td>\n",
       "      <td>34.925000</td>\n",
       "      <td>62.901667</td>\n",
       "      <td>0</td>\n",
       "    </tr>\n",
       "    <tr>\n",
       "      <th>3</th>\n",
       "      <td>3228129</td>\n",
       "      <td>Q1650529</td>\n",
       "      <td>Achin</td>\n",
       "      <td>Afghanistan</td>\n",
       "      <td>AF</td>\n",
       "      <td>Nangarhar</td>\n",
       "      <td>NAN</td>\n",
       "      <td>Q178471</td>\n",
       "      <td>34.089400</td>\n",
       "      <td>70.683000</td>\n",
       "      <td>0</td>\n",
       "    </tr>\n",
       "    <tr>\n",
       "      <th>4</th>\n",
       "      <td>3301438</td>\n",
       "      <td>Q2714271</td>\n",
       "      <td>Adraskan District</td>\n",
       "      <td>Afghanistan</td>\n",
       "      <td>AF</td>\n",
       "      <td>Herat Province</td>\n",
       "      <td>HER</td>\n",
       "      <td>Q182844</td>\n",
       "      <td>33.705278</td>\n",
       "      <td>61.995556</td>\n",
       "      <td>0</td>\n",
       "    </tr>\n",
       "  </tbody>\n",
       "</table>\n",
       "</div>"
      ],
      "text/plain": [
       "        id wikiDataId               name               country countryCode  \\\n",
       "0  3515514   Q4117373          Al Mamzar  United Arab Emirates          AE   \n",
       "1  3386644   Q3694483   Ab Band District           Afghanistan          AF   \n",
       "2  3339608   Q2572213          Ab Kamari           Afghanistan          AF   \n",
       "3  3228129   Q1650529              Achin           Afghanistan          AF   \n",
       "4  3301438   Q2714271  Adraskan District           Afghanistan          AF   \n",
       "\n",
       "             region regionCode regionWdId   latitude  longitude  population  \n",
       "0  Emirate of Dubai         DU       Q613  25.309469  55.342811           0  \n",
       "1            Ghazni        GHA    Q180415  32.983000  67.967000           0  \n",
       "2           Badghis        BDG    Q172052  34.925000  62.901667           0  \n",
       "3         Nangarhar        NAN    Q178471  34.089400  70.683000           0  \n",
       "4    Herat Province        HER    Q182844  33.705278  61.995556           0  "
      ]
     },
     "execution_count": 15,
     "metadata": {},
     "output_type": "execute_result"
    }
   ],
   "source": [
    "pd.DataFrame(response.json()['data'])"
   ]
  }
 ],
 "metadata": {
  "kernelspec": {
   "display_name": "Python 3 (ipykernel)",
   "language": "python",
   "name": "python3"
  },
  "language_info": {
   "codemirror_mode": {
    "name": "ipython",
    "version": 3
   },
   "file_extension": ".py",
   "mimetype": "text/x-python",
   "name": "python",
   "nbconvert_exporter": "python",
   "pygments_lexer": "ipython3",
   "version": "3.10.0"
  }
 },
 "nbformat": 4,
 "nbformat_minor": 5
}
